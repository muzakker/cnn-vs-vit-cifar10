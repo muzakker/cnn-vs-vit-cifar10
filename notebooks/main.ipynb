{
  "cells": [
    {
      "cell_type": "markdown",
      "metadata": {
        "id": "5i-rlZceW6sa"
      },
      "source": [
        "## Import necessary packages"
      ]
    },
    {
      "cell_type": "code",
      "execution_count": null,
      "metadata": {
        "id": "dK_eqeF8NcwG"
      },
      "outputs": [],
      "source": [
        "import torch\n",
        "import torch.nn as nn\n",
        "import torch.nn.functional as F\n",
        "import torch.optim as optim\n",
        "import torchvision\n",
        "import torchvision.transforms as transforms\n",
        "from torch.utils.data import DataLoader, random_split\n",
        "from tqdm import tqdm\n",
        "import time"
      ]
    },
    {
      "cell_type": "markdown",
      "metadata": {
        "id": "q4fad9FTXSoc"
      },
      "source": [
        "## Normalization + data augementation for training dataset"
      ]
    },
    {
      "cell_type": "code",
      "execution_count": null,
      "metadata": {
        "id": "7xjTjo5SXZE7"
      },
      "outputs": [],
      "source": [
        "transform_train = transforms.Compose([\n",
        "    transforms.RandomCrop(32, padding=4),  # Randomly crop with padding\n",
        "    transforms.RandomHorizontalFlip(),  # Flip image horizontally\n",
        "    transforms.RandomRotation(15),\n",
        "    transforms.ToTensor(),\n",
        "    transforms.Normalize((0.4914, 0.4822, 0.4465), (0.247, 0.243, 0.261))])"
      ]
    },
    {
      "cell_type": "markdown",
      "metadata": {
        "id": "qYhNtwQeYkcE"
      },
      "source": [
        "## Normalization for testing dataset"
      ]
    },
    {
      "cell_type": "code",
      "execution_count": null,
      "metadata": {
        "id": "scweJ66fdZYm"
      },
      "outputs": [],
      "source": [
        "transform_test = transforms.Compose([\n",
        "    transforms.ToTensor(),\n",
        "    transforms.Normalize((0.4914, 0.4822, 0.4465), (0.247, 0.243, 0.261))])"
      ]
    },
    {
      "cell_type": "markdown",
      "metadata": {
        "id": "qGgYc6Fpd0Ys"
      },
      "source": [
        "## Build-in CIFAR-10 dataset from PyTorch"
      ]
    },
    {
      "cell_type": "code",
      "execution_count": null,
      "metadata": {
        "colab": {
          "background_save": true
        },
        "id": "Zwg37O1Sd1op",
        "outputId": "c15ce9c6-7266-49df-fba6-96e0766d3e14"
      },
      "outputs": [
        {
          "name": "stderr",
          "output_type": "stream",
          "text": [
            "100%|██████████| 170M/170M [00:03<00:00, 48.6MB/s]\n"
          ]
        }
      ],
      "source": [
        "trainset = torchvision.datasets.CIFAR10(root='./data', train=True, download=True, transform=transform_train)"
      ]
    },
    {
      "cell_type": "code",
      "execution_count": null,
      "metadata": {
        "colab": {
          "background_save": true
        },
        "id": "7533ZFH1eEFV"
      },
      "outputs": [],
      "source": [
        "testset = torchvision.datasets.CIFAR10(root='./data', train=False, download=True, transform=transform_test)"
      ]
    },
    {
      "cell_type": "markdown",
      "metadata": {
        "id": "-x4Qu5oxeYNS"
      },
      "source": [
        "# Just for visualization"
      ]
    },
    {
      "cell_type": "code",
      "execution_count": null,
      "metadata": {
        "id": "nCjwVUehevbT"
      },
      "outputs": [],
      "source": [
        "trainloader = torch.utils.data.DataLoader(trainset, batch_size=4, shuffle=True)\n",
        "testloader = torch.utils.data.DataLoader(testset, batch_size=4, shuffle=True)\n",
        "\n",
        "classes = ('airplane', 'automobile', 'bird', 'cat', 'deer', 'dog', 'frog', 'horse', 'ship', 'truck')"
      ]
    },
    {
      "cell_type": "code",
      "execution_count": null,
      "metadata": {
        "id": "AOfaQE62fBSA"
      },
      "outputs": [],
      "source": [
        "import matplotlib.pyplot as plt\n",
        "import numpy as np"
      ]
    },
    {
      "cell_type": "code",
      "execution_count": null,
      "metadata": {
        "colab": {
          "base_uri": "https://localhost:8080/",
          "height": 342
        },
        "id": "RSJ6JXSue3Ix",
        "outputId": "cb7594fc-83b9-4b22-94af-512c359aaf92"
      },
      "outputs": [
        {
          "name": "stderr",
          "output_type": "stream",
          "text": [
            "WARNING:matplotlib.image:Clipping input data to the valid range for imshow with RGB data ([0..1] for floats or [0..255] for integers). Got range [-0.49473685..1.5654321].\n",
            "WARNING:matplotlib.image:Clipping input data to the valid range for imshow with RGB data ([0..1] for floats or [0..255] for integers). Got range [-0.49473685..1.5295547].\n",
            "WARNING:matplotlib.image:Clipping input data to the valid range for imshow with RGB data ([0..1] for floats or [0..255] for integers). Got range [-0.49473685..1.5654321].\n",
            "WARNING:matplotlib.image:Clipping input data to the valid range for imshow with RGB data ([0..1] for floats or [0..255] for integers). Got range [-0.49473685..1.4025403].\n"
          ]
        },
        {
          "data": {
            "image/png": "[encoded data removed]",
            "text/plain": [
              "<Figure size 1200x250 with 4 Axes>"
            ]
          },
          "metadata": {},
          "output_type": "display_data"
        }
      ],
      "source": [
        "def convert_image_format(image):\n",
        "    image = image / 2 + 0.5\n",
        "    image = image.numpy()\n",
        "    return image.transpose(1,2,0)\n",
        "\n",
        "\n",
        "data_iter = iter(trainloader)\n",
        "images, labels = next(data_iter)\n",
        "\n",
        "\n",
        "fig, axes = plt.subplots(1, len(images), figsize=(12,2.5))\n",
        "for idx, image in enumerate(images):\n",
        "    axes[idx].imshow(convert_image_format(image))\n",
        "    axes[idx].set_title(classes[labels[idx]])\n",
        "    axes[idx].set_xticks([])\n",
        "    axes[idx].set_yticks([])"
      ]
    },
    {
      "cell_type": "markdown",
      "metadata": {
        "id": "CXZfDd8FffB3"
      },
      "source": [
        "# Data loader (Batch size set to 32)"
      ]
    },
    {
      "cell_type": "code",
      "execution_count": null,
      "metadata": {
        "colab": {
          "background_save": true
        },
        "id": "HxlsQg7IfeWo"
      },
      "outputs": [],
      "source": [
        "# Split trainset into training and validation sets\n",
        "train_size = 45000\n",
        "val_size = 5000\n",
        "train_subset, val_subset = random_split(trainset, [train_size, val_size])\n",
        "\n",
        "# Create data loaders\n",
        "trainloader = DataLoader(train_subset, batch_size=32, shuffle=True)\n",
        "valloader = DataLoader(val_subset, batch_size=32, shuffle=False)\n",
        "testloader = DataLoader(testset, batch_size=32, shuffle=False)"
      ]
    },
    {
      "cell_type": "markdown",
      "metadata": {
        "id": "VGHtWjToChir"
      },
      "source": [
        "# Training"
      ]
    },
    {
      "cell_type": "code",
      "execution_count": null,
      "metadata": {
        "id": "o4_5XkeI8-bA"
      },
      "outputs": [],
      "source": [
        "def train(model, device, trainloader, optimizer, criterion, epoch):\n",
        "    model.train()\n",
        "    running_loss = 0.0\n",
        "    correct = 0\n",
        "    total = 0\n",
        "    start_time = time.time()\n",
        "\n",
        "    # Wrap the trainloader with tqdm for a progress bar\n",
        "    pbar = tqdm(enumerate(trainloader), total=len(trainloader), desc=f\"Epoch {epoch}\")\n",
        "\n",
        "    for batch_idx, (inputs, targets) in pbar:\n",
        "        inputs, targets = inputs.to(device), targets.to(device)\n",
        "        optimizer.zero_grad()\n",
        "        outputs = model(inputs)\n",
        "        loss = criterion(outputs, targets)\n",
        "        loss.backward()\n",
        "        optimizer.step()\n",
        "\n",
        "        running_loss += loss.item() * inputs.size(0)\n",
        "        _, predicted = outputs.max(1)\n",
        "        total += targets.size(0)\n",
        "        correct += predicted.eq(targets).sum().item()\n",
        "\n",
        "        pbar.set_postfix(loss=loss.item())\n",
        "\n",
        "    epoch_loss = running_loss / total\n",
        "    epoch_acc = 100. * correct / total\n",
        "    epoch_time = time.time() - start_time\n",
        "    print(f\"Epoch {epoch}: Train Loss: {epoch_loss:.4f}, Train Accuracy: {epoch_acc:.2f}%, Time: {epoch_time:.2f}s\")\n",
        "    return epoch_loss, epoch_acc\n",
        "\n",
        "def evaluate1(model, device, dataloader, criterion, split=\"Validation\"):\n",
        "    model.eval()\n",
        "    running_loss = 0.0\n",
        "    correct = 0\n",
        "    total = 0\n",
        "    with torch.no_grad():\n",
        "        for batch_idx, (inputs, targets) in enumerate(dataloader):\n",
        "            inputs, targets = inputs.to(device), targets.to(device)\n",
        "            outputs = model(inputs)\n",
        "            loss = criterion(outputs, targets)\n",
        "            running_loss += loss.item() * inputs.size(0)\n",
        "            _, predicted = outputs.max(1)\n",
        "            total += targets.size(0)\n",
        "            correct += predicted.eq(targets).sum().item()\n",
        "    epoch_loss = running_loss / total\n",
        "    epoch_acc = 100. * correct / total\n",
        "    print(f\"{split}: Loss: {epoch_loss:.4f}, Accuracy: {epoch_acc:.2f}%\")\n",
        "    return epoch_loss, epoch_acc"
      ]
    },
    {
      "cell_type": "markdown",
      "metadata": {
        "id": "1cqE1HmV4KPl"
      },
      "source": [
        "## Shallow CNN (3 layers)"
      ]
    },
    {
      "cell_type": "code",
      "execution_count": null,
      "metadata": {
        "colab": {
          "background_save": true
        },
        "id": "PHxEFXou4M5o"
      },
      "outputs": [],
      "source": [
        "class ShallowCNN(nn.Module):\n",
        "    def __init__(self, num_classes=10):\n",
        "        super(ShallowCNN, self).__init__()\n",
        "\n",
        "        # First Convolutional Block\n",
        "        self.conv1 = nn.Conv2d(3, 32, kernel_size=3, padding=1)\n",
        "        self.bn1 = nn.BatchNorm2d(32)\n",
        "        self.pool = nn.MaxPool2d(2, 2)  # 32x32 -> 16x16\n",
        "\n",
        "        # Second Convolutional Block\n",
        "        self.conv2 = nn.Conv2d(32, 64, kernel_size=3, padding=1)\n",
        "        self.bn2 = nn.BatchNorm2d(64)\n",
        "        # Pooling after conv2: 16x16 -> 8x8\n",
        "\n",
        "        # Third Convolutional Block\n",
        "        self.conv3 = nn.Conv2d(64, 128, kernel_size=3, padding=1)\n",
        "        self.bn3 = nn.BatchNorm2d(128)\n",
        "        # Pooling after conv3: 8x8 -> 4x4\n",
        "\n",
        "        # Fully connected layers\n",
        "        self.fc1 = nn.Linear(128 * 4 * 4, 512)\n",
        "        self.fc2 = nn.Linear(512, num_classes)\n",
        "\n",
        "        # Dropout\n",
        "        self.dropout = nn.Dropout(0.1)\n",
        "\n",
        "        # Initialize weights\n",
        "        for m in self.modules():\n",
        "            if isinstance(m, nn.Conv2d):\n",
        "                nn.init.kaiming_normal_(m.weight, mode='fan_out', nonlinearity='relu')\n",
        "            elif isinstance(m, nn.BatchNorm2d):\n",
        "                nn.init.constant_(m.weight, 1)\n",
        "                nn.init.constant_(m.bias, 0)\n",
        "            elif isinstance(m, nn.Linear):\n",
        "                nn.init.kaiming_normal_(m.weight, mode='fan_out', nonlinearity='relu')\n",
        "                nn.init.constant_(m.bias, 0)\n",
        "\n",
        "    def forward(self, x):\n",
        "        # Conv Block 1\n",
        "        x = self.pool(F.relu(self.bn1(self.conv1(x))))\n",
        "\n",
        "        # Conv Block 2\n",
        "        x = self.pool(F.relu(self.bn2(self.conv2(x))))\n",
        "\n",
        "        # Conv Block 3\n",
        "        x = self.pool(F.relu(self.bn3(self.conv3(x))))\n",
        "\n",
        "        # Flatten\n",
        "        x = x.view(-1, 128 * 4 * 4)\n",
        "\n",
        "        # Fully connected layers\n",
        "        x = self.dropout(F.relu(self.fc1(x)))\n",
        "        x = self.fc2(x)\n",
        "\n",
        "        return x"
      ]
    },
    {
      "cell_type": "code",
      "execution_count": null,
      "metadata": {
        "id": "D1Njbjpy9AtI"
      },
      "outputs": [],
      "source": [
        "# Train & Eval ShallowCNN\n",
        "def train_shallow_cnn():\n",
        "    device = 'cuda' if torch.cuda.is_available() else 'cpu'\n",
        "    model = ShallowCNN(num_classes=10).to(device)\n",
        "    optimizer = optim.AdamW(model.parameters(), lr=1e-3, weight_decay=1e-4)\n",
        "    criterion = nn.CrossEntropyLoss()\n",
        "    num_epochs = 75\n",
        "\n",
        "    best_val_acc = 0\n",
        "    for epoch in range(1, num_epochs+1):\n",
        "        # Training\n",
        "        train_loss, train_acc = train(model, device, trainloader, optimizer, criterion, epoch)\n",
        "\n",
        "        # Validation\n",
        "        val_loss, val_acc = evaluate1(model, device, valloader, criterion, split=\"Validation\")\n",
        "\n",
        "        # Save model based on validation accuracy\n",
        "        if val_acc > best_val_acc:\n",
        "            best_val_acc = val_acc\n",
        "            torch.save(model.state_dict(), 'shallow_cnn_cifar10_best.pth')\n",
        "            print(f\"Saved best model with validation accuracy: {best_val_acc:.2f}%\")\n",
        "\n",
        "        print()\n",
        "\n",
        "    print(f\"Best Validation Accuracy: {best_val_acc:.2f}%\")\n",
        "\n",
        "    # Test\n",
        "    model = ShallowCNN(num_classes=10).to(device)\n",
        "    model.load_state_dict(torch.load('shallow_cnn_cifar10_best.pth'))\n",
        "    test_loss, test_acc = evaluate1(model, device, testloader, criterion, split=\"Test\")\n",
        "    print(f\"Test loss: {test_loss:.4f}, Test acc: {test_acc:.2f}%\")\n",
        "\n",
        "train_shallow_cnn()"
      ]
    },
    {
      "cell_type": "markdown",
      "metadata": {
        "id": "wgvjDW7aMatt"
      },
      "source": [
        "## DenseNet CNN: https://arxiv.org/pdf/1608.06993"
      ]
    },
    {
      "cell_type": "code",
      "execution_count": null,
      "metadata": {
        "id": "lF86jF1uNhSX"
      },
      "outputs": [],
      "source": [
        "class _DenseLayer(nn.Module):\n",
        "    def __init__(self, num_input_features, growth_rate, bn_size, drop_rate):\n",
        "        super(_DenseLayer, self).__init__()\n",
        "        self.norm1 = nn.BatchNorm2d(num_input_features)\n",
        "        self.relu1 = nn.ReLU(inplace=True)\n",
        "        self.conv1 = nn.Conv2d(num_input_features, bn_size * growth_rate,\n",
        "                               kernel_size=1, stride=1, bias=False)\n",
        "        self.norm2 = nn.BatchNorm2d(bn_size * growth_rate)\n",
        "        self.relu2 = nn.ReLU(inplace=True)\n",
        "        self.conv2 = nn.Conv2d(bn_size * growth_rate, growth_rate,\n",
        "                               kernel_size=3, stride=1, padding=1, bias=False)\n",
        "        self.drop_rate = drop_rate\n",
        "\n",
        "    def forward(self, x):\n",
        "        new_features = self.conv1(self.relu1(self.norm1(x)))\n",
        "        new_features = self.conv2(self.relu2(self.norm2(new_features)))\n",
        "        if self.drop_rate > 0:\n",
        "            new_features = F.dropout(new_features, p=self.drop_rate, training=self.training)\n",
        "        # Concatenate input with new features\n",
        "        return torch.cat([x, new_features], 1)\n",
        "\n",
        "class _DenseBlock(nn.Module):\n",
        "    def __init__(self, num_layers, num_input_features, bn_size, growth_rate, drop_rate):\n",
        "        super(_DenseBlock, self).__init__()\n",
        "        layers = []\n",
        "        for i in range(num_layers):\n",
        "            layer = _DenseLayer(num_input_features + i * growth_rate, growth_rate, bn_size, drop_rate)\n",
        "            layers.append(layer)\n",
        "        self.layers = nn.ModuleList(layers)\n",
        "\n",
        "    def forward(self, x):\n",
        "        for layer in self.layers:\n",
        "            x = layer(x)\n",
        "        return x\n",
        "\n",
        "class _Transition(nn.Module):\n",
        "    def __init__(self, num_input_features, num_output_features):\n",
        "        super(_Transition, self).__init__()\n",
        "        self.norm = nn.BatchNorm2d(num_input_features)\n",
        "        self.relu = nn.ReLU(inplace=True)\n",
        "        self.conv = nn.Conv2d(num_input_features, num_output_features,\n",
        "                              kernel_size=1, stride=1, bias=False)\n",
        "        self.pool = nn.AvgPool2d(kernel_size=2, stride=2)\n",
        "\n",
        "    def forward(self, x):\n",
        "        x = self.conv(self.relu(self.norm(x)))\n",
        "        x = self.pool(x)\n",
        "        return x\n",
        "\n",
        "class DenseNet(nn.Module):\n",
        "    def __init__(self, growth_rate=12, block_config=(16, 16, 16),\n",
        "                 num_init_features=24, bn_size=4, drop_rate=0.1, num_classes=10):\n",
        "        \"\"\"\n",
        "        Parameters:\n",
        "          growth_rate (int): How many filters to add each layer (k in DenseNet paper).\n",
        "          block_config (tuple of ints): How many layers in each dense block.\n",
        "          num_init_features (int): The number of filters to learn in the first convolution layer.\n",
        "          bn_size (int): Multiplicative factor for bottleneck layers.\n",
        "          drop_rate (float): Dropout rate after each dense layer.\n",
        "          num_classes (int): Number of classes for classification.\n",
        "        \"\"\"\n",
        "        super(DenseNet, self).__init__()\n",
        "\n",
        "        # Initial convolution\n",
        "        self.features = nn.Sequential(\n",
        "            nn.Conv2d(3, num_init_features, kernel_size=3, stride=1, padding=1, bias=False),\n",
        "            nn.BatchNorm2d(num_init_features),\n",
        "            nn.ReLU(inplace=True),\n",
        "        )\n",
        "\n",
        "        # Each denseblock\n",
        "        num_features = num_init_features\n",
        "        self.denseblocks = nn.ModuleList()\n",
        "        self.transitions = nn.ModuleList()\n",
        "        for i, num_layers in enumerate(block_config):\n",
        "            block = _DenseBlock(num_layers=num_layers, num_input_features=num_features,\n",
        "                                bn_size=bn_size, growth_rate=growth_rate, drop_rate=drop_rate)\n",
        "\n",
        "            self.denseblocks.append(block)\n",
        "            num_features = num_features + num_layers * growth_rate\n",
        "\n",
        "            if i != len(block_config) - 1:\n",
        "                trans = _Transition(num_input_features=num_features,\n",
        "                                    num_output_features=num_features // 2)\n",
        "\n",
        "                self.transitions.append(trans)\n",
        "                num_features = num_features // 2\n",
        "\n",
        "        # Final batch norm\n",
        "        self.norm_final = nn.BatchNorm2d(num_features)\n",
        "        # Linear classifier\n",
        "        self.classifier = nn.Linear(num_features, num_classes)\n",
        "\n",
        "        # Initialize weights\n",
        "        for m in self.modules():\n",
        "            if isinstance(m, nn.Conv2d):\n",
        "                nn.init.kaiming_normal_(m.weight)\n",
        "            elif isinstance(m, nn.BatchNorm2d):\n",
        "                nn.init.constant_(m.weight, 1)\n",
        "                nn.init.constant_(m.bias, 0)\n",
        "            elif isinstance(m, nn.Linear):\n",
        "                nn.init.constant_(m.bias, 0)\n",
        "\n",
        "    def forward(self, x):\n",
        "        out = self.features(x)\n",
        "        for i in range(len(self.denseblocks)):\n",
        "            out = self.denseblocks[i](out)\n",
        "            if i < len(self.transitions):\n",
        "                out = self.transitions[i](out)\n",
        "        out = self.norm_final(out)\n",
        "        out = F.relu(out, inplace=True)\n",
        "        # Global average pooling\n",
        "        out = F.adaptive_avg_pool2d(out, (1, 1)).view(out.size(0), -1)\n",
        "        out = self.classifier(out)\n",
        "        return out"
      ]
    },
    {
      "cell_type": "code",
      "source": [
        "model = DenseNet(growth_rate=12, block_config=(16,16,16), num_init_features=24,\n",
        "                     bn_size=4, drop_rate=0.1, num_classes=10)\n",
        "# print model params\n",
        "total_params = sum(p.numel() for p in model.parameters())\n",
        "print(f\"Total number of parameters: {total_params}\")"
      ],
      "metadata": {
        "colab": {
          "base_uri": "https://localhost:8080/"
        },
        "id": "lhk0y8Yepue8",
        "outputId": "0ab95ffe-eda4-4540-cb02-623deb44541d"
      },
      "execution_count": null,
      "outputs": [
        {
          "output_type": "stream",
          "name": "stdout",
          "text": [
            "Total number of parameters: 769210\n"
          ]
        }
      ]
    },
    {
      "cell_type": "code",
      "execution_count": null,
      "metadata": {
        "colab": {
          "base_uri": "https://localhost:8080/"
        },
        "id": "QWBdpCM-NDct",
        "outputId": "0f4fabc4-0564-4b04-90bd-6bfcb3b9bab1"
      },
      "outputs": [
        {
          "name": "stderr",
          "output_type": "stream",
          "text": [
            "Epoch 1: 100%|██████████| 1407/1407 [02:20<00:00, 10.04it/s, loss=0.906]\n"
          ]
        },
        {
          "name": "stdout",
          "output_type": "stream",
          "text": [
            "Epoch 1: Train Loss: 1.4753, Train Accuracy: 45.74%, Time: 140.16s\n",
            "Validation: Loss: 1.1302, Accuracy: 58.90%\n",
            "Saved best model with validation accuracy: 58.90%\n",
            "\n"
          ]
        },
        {
          "name": "stderr",
          "output_type": "stream",
          "text": [
            "Epoch 2: 100%|██████████| 1407/1407 [02:15<00:00, 10.37it/s, loss=0.935]\n"
          ]
        },
        {
          "name": "stdout",
          "output_type": "stream",
          "text": [
            "Epoch 2: Train Loss: 1.0700, Train Accuracy: 61.69%, Time: 135.69s\n",
            "Validation: Loss: 0.9971, Accuracy: 64.20%\n",
            "Saved best model with validation accuracy: 64.20%\n",
            "\n"
          ]
        },
        {
          "name": "stderr",
          "output_type": "stream",
          "text": [
            "Epoch 3: 100%|██████████| 1407/1407 [02:15<00:00, 10.39it/s, loss=1.7]\n"
          ]
        },
        {
          "name": "stdout",
          "output_type": "stream",
          "text": [
            "Epoch 3: Train Loss: 0.9029, Train Accuracy: 68.19%, Time: 135.42s\n",
            "Validation: Loss: 0.9135, Accuracy: 67.44%\n",
            "Saved best model with validation accuracy: 67.44%\n",
            "\n"
          ]
        },
        {
          "name": "stderr",
          "output_type": "stream",
          "text": [
            "Epoch 4: 100%|██████████| 1407/1407 [02:16<00:00, 10.34it/s, loss=0.972]\n"
          ]
        },
        {
          "name": "stdout",
          "output_type": "stream",
          "text": [
            "Epoch 4: Train Loss: 0.7882, Train Accuracy: 72.16%, Time: 136.03s\n",
            "Validation: Loss: 0.8266, Accuracy: 70.90%\n",
            "Saved best model with validation accuracy: 70.90%\n",
            "\n"
          ]
        },
        {
          "name": "stderr",
          "output_type": "stream",
          "text": [
            "Epoch 5: 100%|██████████| 1407/1407 [02:15<00:00, 10.36it/s, loss=0.918]\n"
          ]
        },
        {
          "name": "stdout",
          "output_type": "stream",
          "text": [
            "Epoch 5: Train Loss: 0.6954, Train Accuracy: 75.79%, Time: 135.77s\n",
            "Validation: Loss: 0.6696, Accuracy: 76.56%\n",
            "Saved best model with validation accuracy: 76.56%\n",
            "\n"
          ]
        },
        {
          "name": "stderr",
          "output_type": "stream",
          "text": [
            "Epoch 6: 100%|██████████| 1407/1407 [02:15<00:00, 10.40it/s, loss=0.321]\n"
          ]
        },
        {
          "name": "stdout",
          "output_type": "stream",
          "text": [
            "Epoch 6: Train Loss: 0.6395, Train Accuracy: 77.78%, Time: 135.27s\n",
            "Validation: Loss: 0.6185, Accuracy: 78.14%\n",
            "Saved best model with validation accuracy: 78.14%\n",
            "\n"
          ]
        },
        {
          "name": "stderr",
          "output_type": "stream",
          "text": [
            "Epoch 7: 100%|██████████| 1407/1407 [02:15<00:00, 10.40it/s, loss=0.896]\n"
          ]
        },
        {
          "name": "stdout",
          "output_type": "stream",
          "text": [
            "Epoch 7: Train Loss: 0.5970, Train Accuracy: 79.44%, Time: 135.33s\n",
            "Validation: Loss: 0.5462, Accuracy: 80.52%\n",
            "Saved best model with validation accuracy: 80.52%\n",
            "\n"
          ]
        },
        {
          "name": "stderr",
          "output_type": "stream",
          "text": [
            "Epoch 8: 100%|██████████| 1407/1407 [02:14<00:00, 10.42it/s, loss=0.182]\n"
          ]
        },
        {
          "name": "stdout",
          "output_type": "stream",
          "text": [
            "Epoch 8: Train Loss: 0.5544, Train Accuracy: 80.73%, Time: 134.99s\n",
            "Validation: Loss: 0.5384, Accuracy: 81.26%\n",
            "Saved best model with validation accuracy: 81.26%\n",
            "\n"
          ]
        },
        {
          "name": "stderr",
          "output_type": "stream",
          "text": [
            "Epoch 9: 100%|██████████| 1407/1407 [02:14<00:00, 10.43it/s, loss=0.291]\n"
          ]
        },
        {
          "name": "stdout",
          "output_type": "stream",
          "text": [
            "Epoch 9: Train Loss: 0.5227, Train Accuracy: 81.96%, Time: 134.86s\n",
            "Validation: Loss: 0.5459, Accuracy: 80.92%\n",
            "\n"
          ]
        },
        {
          "name": "stderr",
          "output_type": "stream",
          "text": [
            "Epoch 10: 100%|██████████| 1407/1407 [02:15<00:00, 10.38it/s, loss=1.22]\n"
          ]
        },
        {
          "name": "stdout",
          "output_type": "stream",
          "text": [
            "Epoch 10: Train Loss: 0.4892, Train Accuracy: 83.21%, Time: 135.57s\n",
            "Validation: Loss: 0.5363, Accuracy: 81.90%\n",
            "Saved best model with validation accuracy: 81.90%\n",
            "\n"
          ]
        },
        {
          "name": "stderr",
          "output_type": "stream",
          "text": [
            "Epoch 11: 100%|██████████| 1407/1407 [02:15<00:00, 10.40it/s, loss=1.28]\n"
          ]
        },
        {
          "name": "stdout",
          "output_type": "stream",
          "text": [
            "Epoch 11: Train Loss: 0.4666, Train Accuracy: 83.68%, Time: 135.31s\n",
            "Validation: Loss: 0.4700, Accuracy: 83.70%\n",
            "Saved best model with validation accuracy: 83.70%\n",
            "\n"
          ]
        },
        {
          "name": "stderr",
          "output_type": "stream",
          "text": [
            "Epoch 12: 100%|██████████| 1407/1407 [02:14<00:00, 10.44it/s, loss=0.525]\n"
          ]
        },
        {
          "name": "stdout",
          "output_type": "stream",
          "text": [
            "Epoch 12: Train Loss: 0.4466, Train Accuracy: 84.44%, Time: 134.83s\n",
            "Validation: Loss: 0.5051, Accuracy: 82.92%\n",
            "\n"
          ]
        },
        {
          "name": "stderr",
          "output_type": "stream",
          "text": [
            "Epoch 13: 100%|██████████| 1407/1407 [02:14<00:00, 10.42it/s, loss=0.541]\n"
          ]
        },
        {
          "name": "stdout",
          "output_type": "stream",
          "text": [
            "Epoch 13: Train Loss: 0.4284, Train Accuracy: 85.14%, Time: 135.00s\n",
            "Validation: Loss: 0.4370, Accuracy: 85.42%\n",
            "Saved best model with validation accuracy: 85.42%\n",
            "\n"
          ]
        },
        {
          "name": "stderr",
          "output_type": "stream",
          "text": [
            "Epoch 14: 100%|██████████| 1407/1407 [02:15<00:00, 10.40it/s, loss=0.693]\n"
          ]
        },
        {
          "name": "stdout",
          "output_type": "stream",
          "text": [
            "Epoch 14: Train Loss: 0.4106, Train Accuracy: 85.64%, Time: 135.27s\n",
            "Validation: Loss: 0.4813, Accuracy: 83.78%\n",
            "\n"
          ]
        },
        {
          "name": "stderr",
          "output_type": "stream",
          "text": [
            "Epoch 15: 100%|██████████| 1407/1407 [02:15<00:00, 10.42it/s, loss=1.06]\n"
          ]
        },
        {
          "name": "stdout",
          "output_type": "stream",
          "text": [
            "Epoch 15: Train Loss: 0.3960, Train Accuracy: 86.26%, Time: 135.06s\n",
            "Validation: Loss: 0.4539, Accuracy: 84.52%\n",
            "\n"
          ]
        },
        {
          "name": "stderr",
          "output_type": "stream",
          "text": [
            "Epoch 16: 100%|██████████| 1407/1407 [02:15<00:00, 10.38it/s, loss=0.506]\n"
          ]
        },
        {
          "name": "stdout",
          "output_type": "stream",
          "text": [
            "Epoch 16: Train Loss: 0.3788, Train Accuracy: 86.77%, Time: 135.55s\n",
            "Validation: Loss: 0.4081, Accuracy: 85.80%\n",
            "Saved best model with validation accuracy: 85.80%\n",
            "\n"
          ]
        },
        {
          "name": "stderr",
          "output_type": "stream",
          "text": [
            "Epoch 17: 100%|██████████| 1407/1407 [02:14<00:00, 10.43it/s, loss=0.106]\n"
          ]
        },
        {
          "name": "stdout",
          "output_type": "stream",
          "text": [
            "Epoch 17: Train Loss: 0.3620, Train Accuracy: 87.32%, Time: 134.90s\n",
            "Validation: Loss: 0.4049, Accuracy: 86.58%\n",
            "Saved best model with validation accuracy: 86.58%\n",
            "\n"
          ]
        },
        {
          "name": "stderr",
          "output_type": "stream",
          "text": [
            "Epoch 18: 100%|██████████| 1407/1407 [02:15<00:00, 10.42it/s, loss=0.437]\n"
          ]
        },
        {
          "name": "stdout",
          "output_type": "stream",
          "text": [
            "Epoch 18: Train Loss: 0.3494, Train Accuracy: 87.86%, Time: 135.03s\n",
            "Validation: Loss: 0.3751, Accuracy: 87.38%\n",
            "Saved best model with validation accuracy: 87.38%\n",
            "\n"
          ]
        },
        {
          "name": "stderr",
          "output_type": "stream",
          "text": [
            "Epoch 19: 100%|██████████| 1407/1407 [02:14<00:00, 10.42it/s, loss=0.335]\n"
          ]
        },
        {
          "name": "stdout",
          "output_type": "stream",
          "text": [
            "Epoch 19: Train Loss: 0.3432, Train Accuracy: 87.98%, Time: 135.00s\n",
            "Validation: Loss: 0.4012, Accuracy: 86.70%\n",
            "\n"
          ]
        },
        {
          "name": "stderr",
          "output_type": "stream",
          "text": [
            "Epoch 20: 100%|██████████| 1407/1407 [02:14<00:00, 10.43it/s, loss=0.205]\n"
          ]
        },
        {
          "name": "stdout",
          "output_type": "stream",
          "text": [
            "Epoch 20: Train Loss: 0.3302, Train Accuracy: 88.66%, Time: 134.96s\n",
            "Validation: Loss: 0.3859, Accuracy: 86.90%\n",
            "\n"
          ]
        },
        {
          "name": "stderr",
          "output_type": "stream",
          "text": [
            "Epoch 21: 100%|██████████| 1407/1407 [02:15<00:00, 10.42it/s, loss=1.14]\n"
          ]
        },
        {
          "name": "stdout",
          "output_type": "stream",
          "text": [
            "Epoch 21: Train Loss: 0.3168, Train Accuracy: 88.86%, Time: 135.01s\n",
            "Validation: Loss: 0.4128, Accuracy: 86.74%\n",
            "\n"
          ]
        },
        {
          "name": "stderr",
          "output_type": "stream",
          "text": [
            "Epoch 22: 100%|██████████| 1407/1407 [02:15<00:00, 10.40it/s, loss=0.333]\n"
          ]
        },
        {
          "name": "stdout",
          "output_type": "stream",
          "text": [
            "Epoch 22: Train Loss: 0.3077, Train Accuracy: 89.24%, Time: 135.28s\n",
            "Validation: Loss: 0.3529, Accuracy: 88.34%\n",
            "Saved best model with validation accuracy: 88.34%\n",
            "\n"
          ]
        },
        {
          "name": "stderr",
          "output_type": "stream",
          "text": [
            "Epoch 23: 100%|██████████| 1407/1407 [02:15<00:00, 10.39it/s, loss=0.616]\n"
          ]
        },
        {
          "name": "stdout",
          "output_type": "stream",
          "text": [
            "Epoch 23: Train Loss: 0.2997, Train Accuracy: 89.54%, Time: 135.36s\n",
            "Validation: Loss: 0.3837, Accuracy: 87.56%\n",
            "\n"
          ]
        },
        {
          "name": "stderr",
          "output_type": "stream",
          "text": [
            "Epoch 24: 100%|██████████| 1407/1407 [02:15<00:00, 10.40it/s, loss=0.34]\n"
          ]
        },
        {
          "name": "stdout",
          "output_type": "stream",
          "text": [
            "Epoch 24: Train Loss: 0.2839, Train Accuracy: 90.10%, Time: 135.30s\n",
            "Validation: Loss: 0.3739, Accuracy: 87.26%\n",
            "\n"
          ]
        },
        {
          "name": "stderr",
          "output_type": "stream",
          "text": [
            "Epoch 25: 100%|██████████| 1407/1407 [02:15<00:00, 10.41it/s, loss=0.0664]\n"
          ]
        },
        {
          "name": "stdout",
          "output_type": "stream",
          "text": [
            "Epoch 25: Train Loss: 0.2807, Train Accuracy: 90.16%, Time: 135.14s\n",
            "Validation: Loss: 0.3524, Accuracy: 88.14%\n",
            "\n"
          ]
        },
        {
          "name": "stderr",
          "output_type": "stream",
          "text": [
            "Epoch 26: 100%|██████████| 1407/1407 [02:15<00:00, 10.39it/s, loss=0.164]\n"
          ]
        },
        {
          "name": "stdout",
          "output_type": "stream",
          "text": [
            "Epoch 26: Train Loss: 0.2730, Train Accuracy: 90.48%, Time: 135.41s\n",
            "Validation: Loss: 0.3780, Accuracy: 87.28%\n",
            "\n"
          ]
        },
        {
          "name": "stderr",
          "output_type": "stream",
          "text": [
            "Epoch 27: 100%|██████████| 1407/1407 [02:15<00:00, 10.39it/s, loss=0.281]\n"
          ]
        },
        {
          "name": "stdout",
          "output_type": "stream",
          "text": [
            "Epoch 27: Train Loss: 0.2639, Train Accuracy: 90.64%, Time: 135.36s\n",
            "Validation: Loss: 0.3751, Accuracy: 88.08%\n",
            "\n"
          ]
        },
        {
          "name": "stderr",
          "output_type": "stream",
          "text": [
            "Epoch 28: 100%|██████████| 1407/1407 [02:15<00:00, 10.40it/s, loss=0.294]\n"
          ]
        },
        {
          "name": "stdout",
          "output_type": "stream",
          "text": [
            "Epoch 28: Train Loss: 0.2566, Train Accuracy: 90.98%, Time: 135.29s\n",
            "Validation: Loss: 0.3580, Accuracy: 87.78%\n",
            "\n"
          ]
        },
        {
          "name": "stderr",
          "output_type": "stream",
          "text": [
            "Epoch 29: 100%|██████████| 1407/1407 [02:15<00:00, 10.40it/s, loss=0.483]\n"
          ]
        },
        {
          "name": "stdout",
          "output_type": "stream",
          "text": [
            "Epoch 29: Train Loss: 0.2544, Train Accuracy: 91.09%, Time: 135.23s\n",
            "Validation: Loss: 0.3626, Accuracy: 87.90%\n",
            "\n"
          ]
        },
        {
          "name": "stderr",
          "output_type": "stream",
          "text": [
            "Epoch 30: 100%|██████████| 1407/1407 [02:15<00:00, 10.42it/s, loss=0.0329]\n"
          ]
        },
        {
          "name": "stdout",
          "output_type": "stream",
          "text": [
            "Epoch 30: Train Loss: 0.2454, Train Accuracy: 91.26%, Time: 135.01s\n",
            "Validation: Loss: 0.3368, Accuracy: 88.74%\n",
            "Saved best model with validation accuracy: 88.74%\n",
            "\n"
          ]
        },
        {
          "name": "stderr",
          "output_type": "stream",
          "text": [
            "Epoch 31: 100%|██████████| 1407/1407 [02:15<00:00, 10.38it/s, loss=1.22]\n"
          ]
        },
        {
          "name": "stdout",
          "output_type": "stream",
          "text": [
            "Epoch 31: Train Loss: 0.2366, Train Accuracy: 91.62%, Time: 135.57s\n",
            "Validation: Loss: 0.3423, Accuracy: 89.48%\n",
            "Saved best model with validation accuracy: 89.48%\n",
            "\n"
          ]
        },
        {
          "name": "stderr",
          "output_type": "stream",
          "text": [
            "Epoch 32: 100%|██████████| 1407/1407 [02:15<00:00, 10.37it/s, loss=0.0473]\n"
          ]
        },
        {
          "name": "stdout",
          "output_type": "stream",
          "text": [
            "Epoch 32: Train Loss: 0.2326, Train Accuracy: 91.75%, Time: 135.62s\n",
            "Validation: Loss: 0.3615, Accuracy: 88.42%\n",
            "\n"
          ]
        },
        {
          "name": "stderr",
          "output_type": "stream",
          "text": [
            "Epoch 33: 100%|██████████| 1407/1407 [02:15<00:00, 10.39it/s, loss=0.5]\n"
          ]
        },
        {
          "name": "stdout",
          "output_type": "stream",
          "text": [
            "Epoch 33: Train Loss: 0.2320, Train Accuracy: 91.91%, Time: 135.40s\n",
            "Validation: Loss: 0.3322, Accuracy: 89.36%\n",
            "\n"
          ]
        },
        {
          "name": "stderr",
          "output_type": "stream",
          "text": [
            "Epoch 34: 100%|██████████| 1407/1407 [02:15<00:00, 10.41it/s, loss=0.0973]\n"
          ]
        },
        {
          "name": "stdout",
          "output_type": "stream",
          "text": [
            "Epoch 34: Train Loss: 0.2204, Train Accuracy: 92.42%, Time: 135.20s\n",
            "Validation: Loss: 0.3599, Accuracy: 88.92%\n",
            "\n"
          ]
        },
        {
          "name": "stderr",
          "output_type": "stream",
          "text": [
            "Epoch 35: 100%|██████████| 1407/1407 [02:15<00:00, 10.38it/s, loss=0.307]\n"
          ]
        },
        {
          "name": "stdout",
          "output_type": "stream",
          "text": [
            "Epoch 35: Train Loss: 0.2192, Train Accuracy: 92.21%, Time: 135.51s\n",
            "Validation: Loss: 0.3412, Accuracy: 88.86%\n",
            "\n"
          ]
        },
        {
          "name": "stderr",
          "output_type": "stream",
          "text": [
            "Epoch 36: 100%|██████████| 1407/1407 [02:15<00:00, 10.40it/s, loss=1.44]\n"
          ]
        },
        {
          "name": "stdout",
          "output_type": "stream",
          "text": [
            "Epoch 36: Train Loss: 0.2104, Train Accuracy: 92.58%, Time: 135.36s\n",
            "Validation: Loss: 0.3379, Accuracy: 89.32%\n",
            "\n"
          ]
        },
        {
          "name": "stderr",
          "output_type": "stream",
          "text": [
            "Epoch 37: 100%|██████████| 1407/1407 [02:15<00:00, 10.40it/s, loss=0.0802]\n"
          ]
        },
        {
          "name": "stdout",
          "output_type": "stream",
          "text": [
            "Epoch 37: Train Loss: 0.2052, Train Accuracy: 92.75%, Time: 135.26s\n",
            "Validation: Loss: 0.3397, Accuracy: 89.12%\n",
            "\n"
          ]
        },
        {
          "name": "stderr",
          "output_type": "stream",
          "text": [
            "Epoch 38: 100%|██████████| 1407/1407 [02:14<00:00, 10.42it/s, loss=0.0649]\n"
          ]
        },
        {
          "name": "stdout",
          "output_type": "stream",
          "text": [
            "Epoch 38: Train Loss: 0.2019, Train Accuracy: 92.95%, Time: 134.98s\n",
            "Validation: Loss: 0.3294, Accuracy: 89.78%\n",
            "Saved best model with validation accuracy: 89.78%\n",
            "\n"
          ]
        },
        {
          "name": "stderr",
          "output_type": "stream",
          "text": [
            "Epoch 39: 100%|██████████| 1407/1407 [02:15<00:00, 10.42it/s, loss=0.233]\n"
          ]
        },
        {
          "name": "stdout",
          "output_type": "stream",
          "text": [
            "Epoch 39: Train Loss: 0.2002, Train Accuracy: 93.07%, Time: 135.06s\n",
            "Validation: Loss: 0.3374, Accuracy: 89.06%\n",
            "\n"
          ]
        },
        {
          "name": "stderr",
          "output_type": "stream",
          "text": [
            "Epoch 40: 100%|██████████| 1407/1407 [02:14<00:00, 10.43it/s, loss=1.63]\n"
          ]
        },
        {
          "name": "stdout",
          "output_type": "stream",
          "text": [
            "Epoch 40: Train Loss: 0.1935, Train Accuracy: 93.03%, Time: 134.91s\n",
            "Validation: Loss: 0.3355, Accuracy: 89.28%\n",
            "\n"
          ]
        },
        {
          "name": "stderr",
          "output_type": "stream",
          "text": [
            "Epoch 41: 100%|██████████| 1407/1407 [02:15<00:00, 10.41it/s, loss=0.787]\n"
          ]
        },
        {
          "name": "stdout",
          "output_type": "stream",
          "text": [
            "Epoch 41: Train Loss: 0.1892, Train Accuracy: 93.27%, Time: 135.20s\n",
            "Validation: Loss: 0.3533, Accuracy: 89.40%\n",
            "\n"
          ]
        },
        {
          "name": "stderr",
          "output_type": "stream",
          "text": [
            "Epoch 42: 100%|██████████| 1407/1407 [02:14<00:00, 10.43it/s, loss=0.0284]\n"
          ]
        },
        {
          "name": "stdout",
          "output_type": "stream",
          "text": [
            "Epoch 42: Train Loss: 0.1874, Train Accuracy: 93.41%, Time: 134.90s\n",
            "Validation: Loss: 0.3240, Accuracy: 90.12%\n",
            "Saved best model with validation accuracy: 90.12%\n",
            "\n"
          ]
        },
        {
          "name": "stderr",
          "output_type": "stream",
          "text": [
            "Epoch 43: 100%|██████████| 1407/1407 [02:15<00:00, 10.41it/s, loss=0.995]\n"
          ]
        },
        {
          "name": "stdout",
          "output_type": "stream",
          "text": [
            "Epoch 43: Train Loss: 0.1847, Train Accuracy: 93.53%, Time: 135.17s\n",
            "Validation: Loss: 0.3434, Accuracy: 89.16%\n",
            "\n"
          ]
        },
        {
          "name": "stderr",
          "output_type": "stream",
          "text": [
            "Epoch 44: 100%|██████████| 1407/1407 [02:14<00:00, 10.44it/s, loss=0.0955]\n"
          ]
        },
        {
          "name": "stdout",
          "output_type": "stream",
          "text": [
            "Epoch 44: Train Loss: 0.1765, Train Accuracy: 93.76%, Time: 134.82s\n",
            "Validation: Loss: 0.3353, Accuracy: 90.06%\n",
            "\n"
          ]
        },
        {
          "name": "stderr",
          "output_type": "stream",
          "text": [
            "Epoch 45: 100%|██████████| 1407/1407 [02:14<00:00, 10.43it/s, loss=0.0268]\n"
          ]
        },
        {
          "name": "stdout",
          "output_type": "stream",
          "text": [
            "Epoch 45: Train Loss: 0.1761, Train Accuracy: 93.78%, Time: 134.95s\n",
            "Validation: Loss: 0.3295, Accuracy: 90.04%\n",
            "\n"
          ]
        },
        {
          "name": "stderr",
          "output_type": "stream",
          "text": [
            "Epoch 46: 100%|██████████| 1407/1407 [02:15<00:00, 10.41it/s, loss=0.0885]\n"
          ]
        },
        {
          "name": "stdout",
          "output_type": "stream",
          "text": [
            "Epoch 46: Train Loss: 0.1773, Train Accuracy: 93.77%, Time: 135.13s\n",
            "Validation: Loss: 0.3344, Accuracy: 90.26%\n",
            "Saved best model with validation accuracy: 90.26%\n",
            "\n"
          ]
        },
        {
          "name": "stderr",
          "output_type": "stream",
          "text": [
            "Epoch 47: 100%|██████████| 1407/1407 [02:14<00:00, 10.43it/s, loss=1.48]\n"
          ]
        },
        {
          "name": "stdout",
          "output_type": "stream",
          "text": [
            "Epoch 47: Train Loss: 0.1649, Train Accuracy: 94.15%, Time: 134.86s\n",
            "Validation: Loss: 0.3346, Accuracy: 89.96%\n",
            "\n"
          ]
        },
        {
          "name": "stderr",
          "output_type": "stream",
          "text": [
            "Epoch 48: 100%|██████████| 1407/1407 [02:15<00:00, 10.38it/s, loss=0.125]\n"
          ]
        },
        {
          "name": "stdout",
          "output_type": "stream",
          "text": [
            "Epoch 48: Train Loss: 0.1660, Train Accuracy: 94.12%, Time: 135.51s\n",
            "Validation: Loss: 0.3437, Accuracy: 89.68%\n",
            "\n"
          ]
        },
        {
          "name": "stderr",
          "output_type": "stream",
          "text": [
            "Epoch 49: 100%|██████████| 1407/1407 [02:15<00:00, 10.42it/s, loss=0.000945]\n"
          ]
        },
        {
          "name": "stdout",
          "output_type": "stream",
          "text": [
            "Epoch 49: Train Loss: 0.1571, Train Accuracy: 94.34%, Time: 135.07s\n",
            "Validation: Loss: 0.3310, Accuracy: 90.50%\n",
            "Saved best model with validation accuracy: 90.50%\n",
            "\n"
          ]
        },
        {
          "name": "stderr",
          "output_type": "stream",
          "text": [
            "Epoch 50: 100%|██████████| 1407/1407 [02:15<00:00, 10.40it/s, loss=0.11]\n"
          ]
        },
        {
          "name": "stdout",
          "output_type": "stream",
          "text": [
            "Epoch 50: Train Loss: 0.1601, Train Accuracy: 94.40%, Time: 135.25s\n",
            "Validation: Loss: 0.3421, Accuracy: 89.90%\n",
            "\n",
            "Best Validation Accuracy: 90.50%\n",
            "Test: Loss: 0.3692, Accuracy: 90.05%\n"
          ]
        }
      ],
      "source": [
        "# Train & Eval DenseNet\n",
        "def train_densenet():\n",
        "    device = 'cuda' if torch.cuda.is_available() else 'cpu'\n",
        "    model = DenseNet(growth_rate=12, block_config=(16,16,16), num_init_features=24,\n",
        "                     bn_size=4, drop_rate=0.1, num_classes=10).to(device)\n",
        "    optimizer = optim.AdamW(model.parameters(), lr=1e-3, weight_decay=1e-4)\n",
        "    criterion = nn.CrossEntropyLoss()\n",
        "    num_epochs = 50\n",
        "\n",
        "    best_val_acc = 0\n",
        "    for epoch in range(1, num_epochs+1):\n",
        "        # Training\n",
        "        train_loss, train_acc = train(model, device, trainloader, optimizer, criterion, epoch)\n",
        "\n",
        "        # Validation\n",
        "        val_loss, val_acc = evaluate1(model, device, valloader, criterion, split=\"Validation\")\n",
        "\n",
        "        # Save model based on validation accuracy\n",
        "        if val_acc > best_val_acc:\n",
        "            best_val_acc = val_acc\n",
        "            torch.save(model.state_dict(), 'densenet_cifar10_best.pth')\n",
        "            print(f\"Saved best model with validation accuracy: {best_val_acc:.2f}%\")\n",
        "\n",
        "        print()\n",
        "\n",
        "    print(f\"Best Validation Accuracy: {best_val_acc:.2f}%\")\n",
        "\n",
        "    # Test\n",
        "    test_loss, test_acc = evaluate1(model, device, testloader, criterion, split=\"Test\")\n",
        "\n",
        "train_densenet()"
      ]
    },
    {
      "cell_type": "markdown",
      "metadata": {
        "id": "xNNybvxPDZgr"
      },
      "source": [
        "## ViT Dino-v2 Small"
      ]
    },
    {
      "cell_type": "code",
      "execution_count": null,
      "metadata": {
        "id": "JhMrpWT3EC31"
      },
      "outputs": [],
      "source": [
        "class DINOv2SmallCIFAR10(nn.Module):\n",
        "    def __init__(self, num_classes=10):\n",
        "        super(DINOv2SmallCIFAR10, self).__init__()\n",
        "        print(\"Loading DINOv2-Small model from PyTorch Hub...\")\n",
        "        self.model = torch.hub.load('facebookresearch/dinov2', 'dinov2_vits14')\n",
        "        self.embed_dim = 384\n",
        "        self.classifier = nn.Linear(self.embed_dim, num_classes)\n",
        "\n",
        "    def forward(self, x):\n",
        "        x = F.interpolate(x, size=(224, 224), mode='bilinear', align_corners=False)\n",
        "        with torch.no_grad():\n",
        "            features = self.model(x)\n",
        "        logits = self.classifier(features)\n",
        "\n",
        "        return logits\n",
        "\n",
        "# Evaluation function\n",
        "def evaluate(model, data_loader, criterion, device, split=\"Test\"):\n",
        "    model.eval()\n",
        "    running_loss = 0.0\n",
        "    correct = 0\n",
        "    total = 0\n",
        "\n",
        "    with torch.no_grad():\n",
        "        for inputs, targets in data_loader:\n",
        "            inputs, targets = inputs.to(device), targets.to(device)\n",
        "\n",
        "            outputs = model(inputs)\n",
        "            loss = criterion(outputs, targets)\n",
        "\n",
        "            running_loss += loss.item() * inputs.size(0)\n",
        "            _, predicted = outputs.max(1)\n",
        "            total += targets.size(0)\n",
        "            correct += predicted.eq(targets).sum().item()\n",
        "\n",
        "    eval_loss = running_loss / total\n",
        "    eval_acc = 100. * correct / total\n",
        "\n",
        "    print(f\"{split}: Loss: {eval_loss:.4f}, Accuracy: {eval_acc:.2f}%\")\n",
        "    return eval_loss, eval_acc"
      ]
    },
    {
      "cell_type": "markdown",
      "metadata": {
        "id": "JxQrXJy0CDT0"
      },
      "source": [
        "# Testing"
      ]
    },
    {
      "cell_type": "markdown",
      "metadata": {
        "id": "2hqD1IwrCFOa"
      },
      "source": [
        "## Shallow CNN"
      ]
    },
    {
      "cell_type": "code",
      "execution_count": null,
      "metadata": {
        "colab": {
          "base_uri": "https://localhost:8080/"
        },
        "id": "2wcN5FMuVRPc",
        "outputId": "a6432917-7f95-4190-89d2-1fcf75149a23"
      },
      "outputs": [
        {
          "output_type": "stream",
          "name": "stdout",
          "text": [
            "Test: Loss: 0.5299, Accuracy: 83.46%\n"
          ]
        }
      ],
      "source": [
        "device = 'cuda' if torch.cuda.is_available() else 'cpu'\n",
        "model = ShallowCNN(num_classes=10).to(device)\n",
        "criterion = nn.CrossEntropyLoss()\n",
        "model.load_state_dict(torch.load('shallow_cnn_cifar10_best.pth'))\n",
        "test_loss, test_acc = evaluate1(model, device, testloader, criterion, split=\"Test\")"
      ]
    },
    {
      "cell_type": "markdown",
      "metadata": {
        "id": "cM0hTb-QDmZc"
      },
      "source": [
        "## DenseNet"
      ]
    },
    {
      "cell_type": "code",
      "execution_count": null,
      "metadata": {
        "colab": {
          "base_uri": "https://localhost:8080/"
        },
        "id": "H6KHzXLEDl-T",
        "outputId": "be04e464-a90e-42ee-f8bc-d612d78727b9"
      },
      "outputs": [
        {
          "output_type": "stream",
          "name": "stdout",
          "text": [
            "Test: Loss: 0.3349, Accuracy: 91.22%\n"
          ]
        }
      ],
      "source": [
        "device = 'cuda' if torch.cuda.is_available() else 'cpu'\n",
        "model = DenseNet(growth_rate=12, block_config=(16,16,16), num_init_features=24,\n",
        "                     bn_size=4, drop_rate=0.1, num_classes=10).to(device)\n",
        "criterion = nn.CrossEntropyLoss()\n",
        "model.load_state_dict(torch.load('densenet_cifar10_best.pth'))\n",
        "test_loss, test_acc = evaluate1(model, device, testloader, criterion, split=\"Test\")"
      ]
    },
    {
      "cell_type": "markdown",
      "metadata": {
        "id": "tUSetIUdGG-i"
      },
      "source": [
        "## ViT Dino-v2 Small"
      ]
    },
    {
      "cell_type": "code",
      "execution_count": null,
      "metadata": {
        "colab": {
          "base_uri": "https://localhost:8080/"
        },
        "id": "Po8Hd_f3GKD0",
        "outputId": "1b3729b7-db38-4beb-e1c9-2b64964ee473"
      },
      "outputs": [
        {
          "output_type": "stream",
          "name": "stdout",
          "text": [
            "Loading DINOv2-Small model from PyTorch Hub...\n"
          ]
        },
        {
          "output_type": "stream",
          "name": "stderr",
          "text": [
            "Using cache found in /root/.cache/torch/hub/facebookresearch_dinov2_main\n"
          ]
        },
        {
          "output_type": "stream",
          "name": "stdout",
          "text": [
            "Test: Loss: 0.1256, Accuracy: 95.95%\n"
          ]
        }
      ],
      "source": [
        "device = 'cuda' if torch.cuda.is_available() else 'cpu'\n",
        "model = DINOv2SmallCIFAR10(num_classes=10).to(device)\n",
        "checkpoint = torch.load('dinov2_best.pth', map_location=device)\n",
        "model.load_state_dict(checkpoint['model_state_dict'])\n",
        "criterion = nn.CrossEntropyLoss()\n",
        "test_loss, test_acc = evaluate(model, testloader, criterion, device, split=\"Test\")"
      ]
    },
    {
      "cell_type": "code",
      "source": [],
      "metadata": {
        "id": "v5avPK2Oxf0-"
      },
      "execution_count": null,
      "outputs": []
    }
  ],
  "metadata": {
    "accelerator": "GPU",
    "colab": {
      "gpuType": "T4",
      "provenance": []
    },
    "kernelspec": {
      "display_name": "Python 3",
      "name": "python3"
    },
    "language_info": {
      "name": "python"
    }
  },
  "nbformat": 4,
  "nbformat_minor": 0
}
